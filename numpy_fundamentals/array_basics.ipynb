{
 "cells": [
  {
   "cell_type": "markdown",
   "metadata": {},
   "source": [
    "# NumPy Fundamentals: Array Basics"
   ]
  },
  {
   "cell_type": "markdown",
   "metadata": {},
   "source": [
    "Until now, we have focused on Python basics and built-in functions. In order to access specific packages, like NumPy, we need to import them like so:"
   ]
  },
  {
   "cell_type": "code",
   "execution_count": 2,
   "metadata": {},
   "outputs": [],
   "source": [
    "# import the numpy as the shorthand np\n",
    "import numpy as np"
   ]
  },
  {
   "cell_type": "markdown",
   "metadata": {},
   "source": [
    "Using a standardized alias like `np` saves us a little bit of time later."
   ]
  },
  {
   "cell_type": "markdown",
   "metadata": {},
   "source": [
    "## NumPy Arrays\n",
    "The most basic data structure in NumPy is an `ndarray`. \n",
    "The name `ndarray` comes from the fact that they can store \"n dimensions\" of data.\n",
    "\n",
    "Lastly, arrays are similar to lists in that they can be indexed with the same syntax; however, unlike lists, NumPy arrays must contain numeric data types. \n",
    "\n",
    "Let's start by defining a simple 1D array, which can also be referred to as a vector:"
   ]
  },
  {
   "cell_type": "code",
   "execution_count": 3,
   "metadata": {},
   "outputs": [
    {
     "name": "stdout",
     "output_type": "stream",
     "text": [
      "<class 'list'>\n",
      "<class 'numpy.ndarray'>\n"
     ]
    }
   ],
   "source": [
    "# Create a vector from a list\n",
    "my_list = [1,2,3,4]\n",
    "my_vector = np.array(my_list)\n",
    "print(type(my_list))\n",
    "print(type(my_vector))"
   ]
  },
  {
   "cell_type": "markdown",
   "metadata": {},
   "source": [
    "Using what we learned from Module 1, we can index the list and the vector exactly the same way:"
   ]
  },
  {
   "cell_type": "code",
   "execution_count": 4,
   "metadata": {},
   "outputs": [
    {
     "name": "stdout",
     "output_type": "stream",
     "text": [
      "The first element of the list: 1\n",
      "The first element of the vector: 1\n"
     ]
    }
   ],
   "source": [
    "# Index the first elements:\n",
    "print(f\"The first element of the list: { my_list[0] }\")\n",
    "print(f\"The first element of the vector: { my_vector[0] }\")"
   ]
  },
  {
   "cell_type": "markdown",
   "metadata": {},
   "source": [
    "Using numpy arrays, we can make two dimensional arrays. This will look like a list *of* lists. The syntax for slicing should look familiar from indexing lists and tuples--brackets after an indexable variable indexes the variable."
   ]
  },
  {
   "cell_type": "code",
   "execution_count": 10,
   "metadata": {},
   "outputs": [
    {
     "name": "stdout",
     "output_type": "stream",
     "text": [
      "[[5 6 7]\n",
      " [7 8 9]]\n",
      "[8 9]\n"
     ]
    }
   ],
   "source": [
    "my_2d_array = np.array([[5,6,7], [7,8,9]])\n",
    "print(my_2d_array)\n",
    "print(my_2d_array[1][1:3])\n"
   ]
  },
  {
   "cell_type": "markdown",
   "metadata": {},
   "source": [
    "We can also reassign variables as we would with lists:"
   ]
  },
  {
   "cell_type": "code",
   "execution_count": 11,
   "metadata": {},
   "outputs": [
    {
     "name": "stdout",
     "output_type": "stream",
     "text": [
      "[[5 6 7]\n",
      " [7 0 9]]\n"
     ]
    }
   ],
   "source": [
    "my_2d_array[1][1] = 0\n",
    "print(my_2d_array)"
   ]
  },
  {
   "cell_type": "markdown",
   "metadata": {},
   "source": [
    "Similarly, we can index and reassign indices in 3d arrays:"
   ]
  },
  {
   "cell_type": "code",
   "execution_count": 15,
   "metadata": {},
   "outputs": [
    {
     "name": "stdout",
     "output_type": "stream",
     "text": [
      "[[[ 9 10]\n",
      "  [11 12]]\n",
      "\n",
      " [[13 14]\n",
      "  [15 16]]]\n",
      "12\n",
      "[[[ 9 10]\n",
      "  [11 12]]\n",
      "\n",
      " [[13 14]\n",
      "  [ 5 16]]]\n"
     ]
    }
   ],
   "source": [
    "my_3d_array = np.array([[[9,10], [11,12]], [[13,14], [15,16]]])\n",
    "print(my_3d_array)\n",
    "print(my_3d_array[0][1][1])\n",
    "my_3d_array[1][1][0] = 5\n",
    "print(my_3d_array)"
   ]
  },
  {
   "cell_type": "markdown",
   "metadata": {},
   "source": [
    "## Doing Math With Arrays"
   ]
  },
  {
   "cell_type": "markdown",
   "metadata": {},
   "source": [
    "### Peter -- Please show the following:\n",
    "1. scalar multiplication of a simple vector\n",
    "2. introduce basic vector/elementwise math by showing: \n",
    "    - `u * u = u**2`\n",
    "    - `u * v` = ???\n",
    "    - `v/u` = ???"
   ]
  },
  {
   "cell_type": "code",
   "execution_count": 7,
   "metadata": {},
   "outputs": [],
   "source": [
    "u = np.array([1,2,3])\n",
    "v = np.array([5,10,15])"
   ]
  },
  {
   "cell_type": "markdown",
   "metadata": {},
   "source": [
    "## Common Array Constructors"
   ]
  },
  {
   "cell_type": "markdown",
   "metadata": {},
   "source": [
    "### Peter -- Please demonstrate the functionality and use cases for the following `np.array` constructors:\n",
    "- `np.zeros()`\n",
    "- `np.ones()`\n",
    "- `np.identity()` and explain what an identity matrix is \n",
    "- `np.nan()` and explain what `np.nan`/`NaN` is \n",
    "- `np.empty()` and highlight that the output is not exactly zero\n",
    "- `np.full()`\n",
    "- `np.tile()`\n",
    "\n",
    "Lastly, please compare `np.linspace` vs. `arange` vs. `range()`"
   ]
  },
  {
   "cell_type": "markdown",
   "metadata": {},
   "source": [
    "## Determining Matrix Size"
   ]
  },
  {
   "cell_type": "markdown",
   "metadata": {},
   "source": [
    "It's very common to need the the number of elements in a list or array when programming. In Python, the words length, size, and shape all have different meanings!\n",
    "\n",
    "The `len` function in Python is short for \"length\" and returns the number of items in a list. \n",
    "\n",
    "Let's see a quick example using our list from earlier: "
   ]
  },
  {
   "cell_type": "code",
   "execution_count": 10,
   "metadata": {},
   "outputs": [
    {
     "name": "stdout",
     "output_type": "stream",
     "text": [
      " The list \n",
      " [1, 2, 3, 4] \n",
      " has 4 elements\n"
     ]
    }
   ],
   "source": [
    "my_list_length = len(my_list)\n",
    "print(f\" The list \\n {my_list} \\n has {my_list_length} elements\")"
   ]
  },
  {
   "cell_type": "markdown",
   "metadata": {},
   "source": [
    "The `len` function works the same way for both lists and vectors like `my_vector`, which is represented by a 1D matrix.\n",
    "\n",
    "The code below should return the same values for `my_list` and `my_vector` because they have the same number of elements:"
   ]
  },
  {
   "cell_type": "code",
   "execution_count": 11,
   "metadata": {},
   "outputs": [
    {
     "name": "stdout",
     "output_type": "stream",
     "text": [
      "[1, 2, 3, 4] <class 'list'>\n",
      "List length: 4\n",
      "\n",
      "[1 2 3 4] <class 'numpy.ndarray'>\n",
      "Vector length: 4\n"
     ]
    }
   ],
   "source": [
    "list_length = len(my_list)\n",
    "vector_length = len(my_vector)\n",
    "\n",
    "print(my_list, type(my_list))\n",
    "print(f\"List length: {list_length}\\n\")\n",
    "\n",
    "print(my_vector, type(my_vector))\n",
    "print(f\"Vector length: {vector_length}\")"
   ]
  },
  {
   "cell_type": "markdown",
   "metadata": {},
   "source": [
    "What happens if we use `len` on a nested list? In this case, the function does not care about the contents of the nested lists. It will treat the nested lists like any other data type. \n",
    "\n",
    "Here's an example of a list containing three nested lists:"
   ]
  },
  {
   "cell_type": "code",
   "execution_count": 12,
   "metadata": {},
   "outputs": [
    {
     "name": "stdout",
     "output_type": "stream",
     "text": [
      "Number of elements in nested list: 3\n"
     ]
    }
   ],
   "source": [
    "my_nested_list = [[1, 2], [3, 4, 5], [6]]\n",
    "print(f\"Number of elements in nested list: {len(my_nested_list)}\")"
   ]
  },
  {
   "cell_type": "markdown",
   "metadata": {},
   "source": [
    "Even though there are 6 integers in total contained in the nested list, the `len` function returns 3 because it only counts the nested lists within the list as elements. \n",
    "\n",
    "We can show this by printing the types of each element:"
   ]
  },
  {
   "cell_type": "code",
   "execution_count": 13,
   "metadata": {},
   "outputs": [
    {
     "name": "stdout",
     "output_type": "stream",
     "text": [
      "<class 'list'>\n",
      "<class 'list'>\n",
      "<class 'list'>\n"
     ]
    }
   ],
   "source": [
    "for element in my_nested_list:\n",
    "    print(type(element))"
   ]
  },
  {
   "cell_type": "markdown",
   "metadata": {},
   "source": [
    "If we want the length of an individual nested list, we can specify which nested list and print its length using the following code:"
   ]
  },
  {
   "cell_type": "code",
   "execution_count": 14,
   "metadata": {},
   "outputs": [
    {
     "name": "stdout",
     "output_type": "stream",
     "text": [
      "2\n",
      "3\n",
      "1\n"
     ]
    }
   ],
   "source": [
    "# Length of the first nested list\n",
    "print(len(my_nested_list[0]))   \n",
    "\n",
    "# Length of the second nested list\n",
    "print(len(my_nested_list[1]))\n",
    "\n",
    "# Length of the third nested list   \n",
    "print(len(my_nested_list[2]))   "
   ]
  },
  {
   "cell_type": "markdown",
   "metadata": {},
   "source": [
    "How will `len()` work with a 2D array?"
   ]
  },
  {
   "cell_type": "code",
   "execution_count": 18,
   "metadata": {},
   "outputs": [
    {
     "name": "stdout",
     "output_type": "stream",
     "text": [
      "Nested list: \n",
      "[[1, 2], [3, 4, 5], [6]] \n",
      "length: 3\n",
      "\n",
      "2D array: \n",
      "[[ 7  8  9]\n",
      " [10 11 12]] \n",
      "length: 2\n"
     ]
    }
   ],
   "source": [
    "new_2d_array = np.array([[7, 8, 9], [10, 11, 12]])\n",
    "\n",
    "print(f\"Nested list: \\n{my_nested_list} \\nlength: {len(my_nested_list)}\\n\")\n",
    "print(f\"2D array: \\n{new_2d_array} \\nlength: {len(new_2d_array)}\")"
   ]
  },
  {
   "cell_type": "markdown",
   "metadata": {},
   "source": [
    "Looks like `len` returns the number of rows in our matrix!\n",
    "\n",
    "Even though we see six total elements in each, `len(my_nested_list) != len(my_2d_array)` because of the differences in structure."
   ]
  },
  {
   "cell_type": "markdown",
   "metadata": {},
   "source": [
    "#### The `shape` and `size` properties\n",
    "But what if we want the number of columns? Or the total number of elements in our matrix? \n",
    "\n",
    "With 2D arrays, we have a couple of properties that return similar information to `len`. We can use `size` to return the total number of elements and `shape` to return the total number of rows and columns (as a tuple).\n"
   ]
  },
  {
   "cell_type": "code",
   "execution_count": 68,
   "metadata": {},
   "outputs": [
    {
     "name": "stdout",
     "output_type": "stream",
     "text": [
      " The array \n",
      "\n",
      " [[1 2 3]\n",
      " [4 5 6]] \n",
      "\n",
      " has 6 elements \n",
      " Its shape is: (2, 3) \n",
      " This means that there are 2 rows and 3 columns \n"
     ]
    }
   ],
   "source": [
    "# Get size and shape of 2D array\n",
    "elements_in_array = my_2d_array.size\n",
    "num_rows, num_cols = my_2d_array.shape\n",
    "print(f\" The array \\n\\n {my_2d_array} \\n\\n has {elements_in_array} elements \")\n",
    "print(f\" Its shape is: {my_2d_array.shape} \")\n",
    "print(f\" This means that there are {num_rows} rows and {num_cols} columns \")"
   ]
  },
  {
   "cell_type": "code",
   "execution_count": 67,
   "metadata": {},
   "outputs": [
    {
     "name": "stdout",
     "output_type": "stream",
     "text": [
      " The array \n",
      "\n",
      " [[[ 9 10]\n",
      "  [11 12]]\n",
      "\n",
      " [[13 14]\n",
      "  [15 16]]] \n",
      "\n",
      " has 8 elements \n",
      " Its shape is: (2, 2, 2) \n",
      " This means that there are 2 rows, 2 columns, and 2 layers \n"
     ]
    }
   ],
   "source": [
    "# Get size and shape of 3D array\n",
    "elements_in_3d_array = my_3d_array.size\n",
    "num_rows, num_cols, num_layers = my_3d_array.shape\n",
    "print(f\" The array \\n\\n {my_3d_array} \\n\\n has {elements_in_3d_array} elements \")\n",
    "print(f\" Its shape is: {my_3d_array.shape} \")\n",
    "print(f\" This means that there are {num_rows} rows, {num_cols} columns, and {num_layers} layers \")"
   ]
  },
  {
   "cell_type": "markdown",
   "metadata": {},
   "source": [
    "To summarize:\n",
    "- `len`: returns the number of elements in a list/1D array *or* the number of rows in the array if the number of dimensions >= 2\n",
    "- `shape`: a tuple of numbers representing the size of each dimension\n",
    "- `size`: the total number of elements"
   ]
  }
 ],
 "metadata": {
  "kernelspec": {
   "display_name": "Python 3",
   "language": "python",
   "name": "python3"
  },
  "language_info": {
   "codemirror_mode": {
    "name": "ipython",
    "version": 3
   },
   "file_extension": ".py",
   "mimetype": "text/x-python",
   "name": "python",
   "nbconvert_exporter": "python",
   "pygments_lexer": "ipython3",
   "version": "3.12.3"
  }
 },
 "nbformat": 4,
 "nbformat_minor": 2
}
