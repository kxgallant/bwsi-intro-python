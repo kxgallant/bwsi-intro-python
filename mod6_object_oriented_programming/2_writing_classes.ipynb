{
 "cells": [
  {
   "cell_type": "markdown",
   "metadata": {},
   "source": [
    "# Object Oriented Programming: Writing Classes\n",
    "\n",
    "Please complete this assignment with your small group. Discussion is encouraged and a completed version is due before the next class."
   ]
  },
  {
   "cell_type": "code",
   "execution_count": 2,
   "metadata": {},
   "outputs": [],
   "source": [
    "import random"
   ]
  },
  {
   "cell_type": "markdown",
   "metadata": {},
   "source": [
    "Let's define an example class called `Dog` which has multiple attributes and methods:"
   ]
  },
  {
   "cell_type": "code",
   "execution_count": 3,
   "metadata": {},
   "outputs": [],
   "source": [
    "class Dog:\n",
    "    \"\"\"Class representing a dog.\"\"\"\n",
    "\n",
    "    def __init__(self, name, age, breed):\n",
    "        \"\"\"Initialize name, age, and breed information.\"\"\"\n",
    "        self.name = name\n",
    "        self.age = age\n",
    "        self.breed = breed\n",
    "\n",
    "        #for demonstration purposes, you can print out 'self':\n",
    "        #print(self)\n",
    "\n",
    "    def introduce(self):\n",
    "        \"\"\"Introduce the dog.\"\"\"\n",
    "        print(f\"{self.name} is a {self.age} year old {self.breed}.\")\n",
    "\n",
    "    def bark(self):\n",
    "        \"\"\"Say Woof!\"\"\"\n",
    "        print(\"Woof!\")\n",
    "\n",
    "    def celebrate_birthday(self):\n",
    "        \"\"\"Celebrate the dog's birthday and update the age attribute.\"\"\"\n",
    "        self.age += 1\n",
    "        print(f\"It's {self.name}'s birthday! They are now {self.age} years old.\")\n",
    "\n",
    "    def check_mood(self):\n",
    "        \"\"\"Check the dog's mood.\"\"\"\n",
    "        mood = random.choice([\"happy\", \"grumpy\", \"sleepy\"])\n",
    "        print(f\"{self.name} is feeling {mood} right now.\")\n"
   ]
  },
  {
   "cell_type": "markdown",
   "metadata": {},
   "source": [
    "Notice that for each of the methods, we pass in something called `self`. This makes it clear that this is a method of a class, and not a standalone function. \n",
    "\n",
    "If you don't include the `self`, you may get an error that looks like this: \n",
    "\n",
    "`TypeError: your_instance.method() takes 0 positional arguments but 1 was given`. "
   ]
  },
  {
   "cell_type": "markdown",
   "metadata": {},
   "source": [
    "Also, note that `celebrate_birthday` changes the `age` attribute every time it is called. This is an extremely common practice in object oriented programming. In fact, it is general practice to only have the attributes of a class modified by its methods. This makes debugging simpler, as one only has to look in one class to see where errors appear."
   ]
  },
  {
   "cell_type": "code",
   "execution_count": null,
   "metadata": {},
   "outputs": [],
   "source": [
    "rover = Dog(\"Rover\", 3, \"poodle\")\n",
    "rover.introduce()"
   ]
  },
  {
   "cell_type": "code",
   "execution_count": null,
   "metadata": {},
   "outputs": [],
   "source": [
    "rover.celebrate_birthday()\n",
    "rover.celebrate_birthday()\n",
    "rover.celebrate_birthday()"
   ]
  },
  {
   "cell_type": "code",
   "execution_count": null,
   "metadata": {},
   "outputs": [],
   "source": [
    "rover.check_mood()"
   ]
  },
  {
   "cell_type": "markdown",
   "metadata": {},
   "source": [
    "## Please write a class similar to the example called `Cat`\n",
    "### Q.1 Write an initial solution similar to `Dog` (with the docstrings/methods changed as necessary):\n",
    "- **attributes**: `name`, `age`, `breed`\n",
    "- **methods**: `__init__()`, `introduce()`, `meow()`, `celebrate_birthday()`, `check_mood()`\n",
    "\n",
    "### Q.2 Make our `Cat` class a little more robust:\n",
    "- Add a method called `growl` that prints `\"Grrr...\"` when called\n",
    "- Add conditionals to the method `check_mood` that print out corresponding statements based on the cat's mood:\n",
    "    - happy $\\rightarrow$ calls `self.meow()`\n",
    "    - grumpy $\\rightarrow$ calls `self.growl()`\n",
    "    - sleepy $\\rightarrow$ `print(\"Zzzz...\")`\n",
    "\n",
    "### Q.3 Lastly, handle the case when the cat is less than a year old:\n",
    "- Add the attribute `is_kitten` that stores if the cat is a kitten (i.e. age < 1 year old). \n",
    "- Add a condition to `introduce()` such that:\n",
    "    \n",
    "    `self.is_kitten` is `True` $\\rightarrow$ `print(f\"{self.name} is a {self.breed} kitten.\")`\n",
    "\n",
    "- Add a condition to `celebrate_birthday()` such that:\n",
    "\n",
    "    `self.is_kitten` is `True` $\\rightarrow$ `print(f\"It's {self.name}'s birthday! They are now 1 year old.\")`\n",
    "\n",
    "- **Hint**: make sure to update `is_kitten` when appropriate!"
   ]
  },
  {
   "cell_type": "code",
   "execution_count": 9,
   "metadata": {},
   "outputs": [],
   "source": [
    "class Cat:\n",
    "    \"\"\"Class representing a Cat.\"\"\"\n",
    "    def __init__(self, name, age, breed):\n",
    "        \"\"\"DOCSTRING HERE.\"\"\"\n",
    "        # YOUR CODE HERE\n",
    "        pass\n",
    "\n",
    "    def introduce(self):\n",
    "        \"\"\"DOCSTRING HERE.\"\"\"\n",
    "        # YOUR CODE HERE\n",
    "        pass\n",
    "\n",
    "    def meow(self):\n",
    "        \"\"\"DOCSTRING HERE.\"\"\"\n",
    "        # YOUR CODE HERE\n",
    "        pass\n",
    "\n",
    "    def celebrate_birthday(self):\n",
    "        \"\"\"DOCSTRING HERE.\"\"\"\n",
    "        # YOUR CODE HERE\n",
    "        pass\n",
    "\n",
    "    def check_mood(self):\n",
    "        \"\"\"DOCSTRING HERE.\"\"\"\n",
    "        # YOUR CODE HERE\n",
    "        pass\n"
   ]
  },
  {
   "cell_type": "markdown",
   "metadata": {},
   "source": [
    "Check your work by running the following code blocks:"
   ]
  },
  {
   "cell_type": "code",
   "execution_count": 14,
   "metadata": {},
   "outputs": [],
   "source": [
    "# Initialize two instances of Cat: Sesame and Miso\n",
    "sesame = Cat(\"Sesame\", 2, \"Siberian\")\n",
    "miso = Cat(\"Miso\", 0.5, \"Siberian\")"
   ]
  },
  {
   "cell_type": "code",
   "execution_count": 13,
   "metadata": {},
   "outputs": [],
   "source": [
    "# Check that the introductions work as expected\n",
    "sesame.introduce()     # EXPECTED: Sesame is a 2 year old Siberian.\n",
    "miso.introduce()       # EXPECTED: Miso is a Siberian kitten."
   ]
  },
  {
   "cell_type": "code",
   "execution_count": 12,
   "metadata": {},
   "outputs": [],
   "source": [
    "# Check that the celebrate_birthday method and is_kitten attribute work as expected\n",
    "miso.celebrate_birthday()       # EXPECTED: It's Miso's birthday! They are now 1.5 years old.\n",
    "miso.introduce()                # EXPECTED: Miso is a 1.5 year old Siberian."
   ]
  },
  {
   "cell_type": "markdown",
   "metadata": {},
   "source": [
    "It is good practice to test all of our features. Let's try writing some tests for the methods in Cat that we didn't test yet.\n",
    "\n",
    "### Q.4 Write tests for 'meow()' and 'check_mood()'"
   ]
  },
  {
   "cell_type": "code",
   "execution_count": null,
   "metadata": {},
   "outputs": [],
   "source": [
    "# Test if 'meow' works as expected\n",
    "# YOUR CODE HERE"
   ]
  },
  {
   "cell_type": "code",
   "execution_count": null,
   "metadata": {},
   "outputs": [],
   "source": [
    "# Test if 'check_mood' works as expected\n",
    "# YOUR CODE HERE"
   ]
  }
 ],
 "metadata": {
  "kernelspec": {
   "display_name": "base",
   "language": "python",
   "name": "python3"
  },
  "language_info": {
   "codemirror_mode": {
    "name": "ipython",
    "version": 3
   },
   "file_extension": ".py",
   "mimetype": "text/x-python",
   "name": "python",
   "nbconvert_exporter": "python",
   "pygments_lexer": "ipython3",
   "version": "3.12.0"
  }
 },
 "nbformat": 4,
 "nbformat_minor": 2
}
