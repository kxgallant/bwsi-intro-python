{
 "cells": [
  {
   "cell_type": "markdown",
   "metadata": {},
   "source": [
    "# Software Development: Documentation and Errors"
   ]
  },
  {
   "cell_type": "markdown",
   "metadata": {},
   "source": [
    "## Type Hinting\n",
    "\n",
    "Type hinting uses annotations to specify data types for variables. We can implement type hinting in variable declarations and in function definitions.  "
   ]
  },
  {
   "cell_type": "markdown",
   "metadata": {},
   "source": [
    "\n",
    "\n",
    "### Variable Declaration Type Hinting\n",
    "The syntax for declaring a variable with type hinting is:  \n",
    "\n",
    "```\n",
    "variable_name : variable_type = variable_value\n",
    "```\n",
    "\n",
    "In the example below, there are two variable type hints:\n",
    "- `x` is set to be type `int`. It is then assigned the value 10.\n",
    "- `name` is set to be type `str`. It is then assigned the value `\"Abby\"`.\n"
   ]
  },
  {
   "cell_type": "code",
   "execution_count": null,
   "metadata": {
    "ExecuteTime": {
     "end_time": "2024-11-21T22:10:14.312410Z",
     "start_time": "2024-11-21T22:10:14.308473Z"
    }
   },
   "outputs": [],
   "source": [
    "# Variable Type Hinting\n",
    "x: int = 10\n",
    "name: str = \"Abby\"\n",
    "\n",
    "print(f\"The variable 'x' is type: {type(x)}\")\n",
    "print(f\"The variable 'name' is type: {type(name)}\")"
   ]
  },
  {
   "cell_type": "markdown",
   "metadata": {},
   "source": [
    "### Function Definition Type Hinting\n",
    "We write type hinting in function definitions as:\n",
    "\n",
    "```python\n",
    "def function_name(variable_name: variable_type, ...) -> return_variable_type\n",
    "```\n",
    "\n",
    "Below, we have a simple function `add`. The type hinting in this function tells us that we take two integers, `a` and `b`, and return their sum as an integer. The print statement verifies this."
   ]
  },
  {
   "cell_type": "code",
   "execution_count": null,
   "metadata": {
    "ExecuteTime": {
     "end_time": "2024-11-21T21:16:14.925122Z",
     "start_time": "2024-11-21T21:16:14.923015Z"
    }
   },
   "outputs": [],
   "source": [
    "# Function with Type Hinting\n",
    "def add(a: int, b: int) -> int:\n",
    "    return a + b\n",
    "\n",
    "print(type(add(1,2)))"
   ]
  },
  {
   "cell_type": "markdown",
   "metadata": {},
   "source": [
    "### Uses for Type Hinting\n",
    "\n",
    "1. **Clearer Code**: expected data types are explicitly stated.\n",
    "2. **Identify Errors**: catch type-related errors before runtime. \n",
    "3. **Consistency**: ensure all code adheres to the data types you intended.\n",
    "4. **Team Collaboration**: type hinting can make your code easier for others to read and understand.\n",
    "\n",
    "It's important to note that type hinting will not actually change variable types for us. It will only be a guide for us to understand the code better.\n",
    "\n",
    "For example, say we want to add two numbers, `a` and `b`, and then return a `str` representation of their sum. The type hinting in following the function, `add_to_string`, tells us that its input is two integers and its output is a string. However, the function returns an integer, not a string. Despite the type hinting being correct, we still have to make sure that the code matches."
   ]
  },
  {
   "cell_type": "code",
   "execution_count": null,
   "metadata": {
    "ExecuteTime": {
     "end_time": "2024-11-21T22:04:22.994516Z",
     "start_time": "2024-11-21T22:04:22.990550Z"
    }
   },
   "outputs": [],
   "source": [
    "def add_to_string(a: int, b: int) -> str:\n",
    "    return a + b\n",
    "\n",
    "print(type(add_to_string(1,2)))"
   ]
  },
  {
   "cell_type": "markdown",
   "metadata": {},
   "source": [
    "When our functions and data structures get complicated, type hinting can help us keep track of data types and easily identify errors. \n",
    "\n",
    "Here's one more example from this week's assignment. The type hinting in this code tells us that a `Recipe` object will have a `str` attribute and a `list` attribute, the method `__init__` will return `None` and the method `__str__` will return a `str`."
   ]
  },
  {
   "cell_type": "code",
   "execution_count": 6,
   "metadata": {},
   "outputs": [],
   "source": [
    "# From this week's assignment:\n",
    "class Recipe:\n",
    "    \"\"\"Class representing recipe.\"\"\"\n",
    "\n",
    "    def __init__(self, recipe_name : str, ingredients : list) -> None:\n",
    "        \"\"\"Init Recipe instance variables.\"\"\"\n",
    "        self.name = recipe_name\n",
    "        self.ingredients = ingredients\n",
    "\n",
    "    def __str__(self) -> str:\n",
    "        \"\"\"Return recipe name.\"\"\"\n",
    "        return self.name"
   ]
  },
  {
   "cell_type": "markdown",
   "metadata": {},
   "source": [
    "## Error Messages"
   ]
  },
  {
   "cell_type": "markdown",
   "metadata": {},
   "source": [
    "When writing your own code, you will often get error messages. Below are a few examples of some of the most common errors and how to fix them.\n",
    "\n",
    "|Error Type|Occurs When...|\n",
    "|------------|-----|\n",
    "|SyntaxError|When keywords are mispelled, missing parentheses, missing apostrophes|\n",
    "|NameError|When variabe is used before being defined|\n",
    "|TypeError|When variable is used as though it is a different data type|\n",
    "|IndexError|When index asked for is larger than the length of list or array|\n",
    "|IndentationError|When missing necessary indentation|\n",
    "|FileNotFound|When file path name or name of file is mispelled|"
   ]
  },
  {
   "cell_type": "markdown",
   "metadata": {},
   "source": [
    "`SyntaxErrors` are the most common errors you'll get when you first start writing code. Luckily in most cases the compiler will tell you how to fix your code."
   ]
  },
  {
   "cell_type": "code",
   "execution_count": null,
   "metadata": {},
   "outputs": [],
   "source": [
    "def my_function:\n",
    "    pass"
   ]
  },
  {
   "cell_type": "code",
   "execution_count": null,
   "metadata": {},
   "outputs": [],
   "source": [
    "example_string = 'hello"
   ]
  },
  {
   "cell_type": "markdown",
   "metadata": {},
   "source": [
    "Another common error is the `NameError`, which occurs when a variable is used before being defined. In the example below, the second instance of `number` is lower case, and so Python treats it as a different variable."
   ]
  },
  {
   "cell_type": "code",
   "execution_count": null,
   "metadata": {},
   "outputs": [],
   "source": [
    "Number = 4\n",
    "print(number + 4)"
   ]
  },
  {
   "cell_type": "code",
   "execution_count": null,
   "metadata": {},
   "outputs": [],
   "source": [
    "Number = 4\n",
    "print(Number + 4)"
   ]
  },
  {
   "cell_type": "markdown",
   "metadata": {},
   "source": [
    "A `TypeError` error message is thrown when an operation is not supported for a given data type. In the below example, we attempt to add an integer to a string. String addition and integer addition are different operations, so Python throws an error."
   ]
  },
  {
   "cell_type": "code",
   "execution_count": null,
   "metadata": {},
   "outputs": [],
   "source": [
    "number_string = '100'\n",
    "integer = 100\n",
    "integer + number_string"
   ]
  },
  {
   "cell_type": "markdown",
   "metadata": {},
   "source": [
    "Here's how we can fix the above code to do either string or integer addition:"
   ]
  },
  {
   "cell_type": "code",
   "execution_count": null,
   "metadata": {},
   "outputs": [],
   "source": [
    "# String addition\n",
    "print(number_string+str(integer))\n",
    "# Integer addition\n",
    "print(int(number_string)+integer)"
   ]
  },
  {
   "cell_type": "markdown",
   "metadata": {},
   "source": [
    "Below are two examples of `IndexError`."
   ]
  },
  {
   "cell_type": "code",
   "execution_count": null,
   "metadata": {},
   "outputs": [],
   "source": [
    "my_list = []\n",
    "my_list[0]"
   ]
  },
  {
   "cell_type": "code",
   "execution_count": null,
   "metadata": {},
   "outputs": [],
   "source": [
    "my_list = [1,2,3,4]\n",
    "my_list[4]"
   ]
  },
  {
   "cell_type": "markdown",
   "metadata": {},
   "source": [
    "If statements and function definitions both require indentation, otherwise we get an `IdentationError`."
   ]
  },
  {
   "cell_type": "code",
   "execution_count": null,
   "metadata": {},
   "outputs": [],
   "source": [
    "if True:\n",
    "print('Hello!')"
   ]
  },
  {
   "cell_type": "code",
   "execution_count": null,
   "metadata": {},
   "outputs": [],
   "source": [
    "def my_function():\n",
    "pass"
   ]
  },
  {
   "cell_type": "markdown",
   "metadata": {},
   "source": [
    "Below is a `FileNotFoundError`. "
   ]
  },
  {
   "cell_type": "code",
   "execution_count": null,
   "metadata": {},
   "outputs": [],
   "source": [
    "file = open('./3_single_responsibility_principl.ipynb')"
   ]
  },
  {
   "cell_type": "markdown",
   "metadata": {},
   "source": [
    "Here's an example of an error called an `AttributeError`. These are similar to `NameError` and occur when you try to access an attribute of a class that is not defined."
   ]
  },
  {
   "cell_type": "code",
   "execution_count": null,
   "metadata": {},
   "outputs": [],
   "source": [
    "mac_and_cheese = Recipe(\"mac and cheese\", [\"pasta\", \"cheese\"])\n",
    "mac_and_cheese.calories"
   ]
  },
  {
   "cell_type": "markdown",
   "metadata": {},
   "source": [
    "## Exceptions"
   ]
  },
  {
   "cell_type": "markdown",
   "metadata": {},
   "source": [
    "There is another type of problem the interpreter could face when it is trying to run your code: an `Exception`. An exception is similar to an error. The difference is that we plan for exceptions and can write a plan B into our code."
   ]
  },
  {
   "cell_type": "markdown",
   "metadata": {},
   "source": [
    "Some common errors of we might want to handle with Exceptions include:\n",
    "- `ZeroDivisonError`\n",
    "- `IndexError`\n",
    "- `TypeError`"
   ]
  },
  {
   "cell_type": "markdown",
   "metadata": {},
   "source": [
    "Note: Both Errors and Exceptions are both considered Runtime Errors. This means they happen when you run your program."
   ]
  },
  {
   "cell_type": "markdown",
   "metadata": {},
   "source": [
    "### `try` and `except`"
   ]
  },
  {
   "cell_type": "markdown",
   "metadata": {},
   "source": [
    "Robust programs use *exception handling* to make sure users have as smooth of a user experience as possible. "
   ]
  },
  {
   "cell_type": "markdown",
   "metadata": {},
   "source": [
    "Exception handling allows us to build a \"Plan B\" into our programs using the `try` and `except` keywords. As the names suggest, the interpreter will try to run the code under `try`, but if it is unsuccesful it will move to running the code in the `except` block."
   ]
  },
  {
   "cell_type": "markdown",
   "metadata": {},
   "source": [
    "Let's see what the code looks like for a simple case. \n",
    "\n",
    "Here, because the variable `color` is not defined we get a `NameError`:"
   ]
  },
  {
   "cell_type": "code",
   "execution_count": null,
   "metadata": {},
   "outputs": [],
   "source": [
    "print(color)"
   ]
  },
  {
   "cell_type": "markdown",
   "metadata": {},
   "source": [
    "We can use the `try` and `except` keywords to flag what went wrong."
   ]
  },
  {
   "cell_type": "code",
   "execution_count": null,
   "metadata": {},
   "outputs": [],
   "source": [
    "try:\n",
    "   print(color)\n",
    "except:\n",
    "   print(\"Unable to find the variable color\")"
   ]
  },
  {
   "cell_type": "markdown",
   "metadata": {},
   "source": [
    "Cool, but notice that this message is not much different than what the interpreter already gives us. \n",
    "\n",
    "Now that we have warmed up with the syntax, let's see an example where exception handling is more useful. "
   ]
  },
  {
   "cell_type": "markdown",
   "metadata": {},
   "source": [
    "Here we are asking the user for input and printing the result divided from 10. \n",
    "\n",
    "We can run into trouble if a user (accidentially or otherwise) enters input that contains non-numeric characters. Therefore, we may plan for this behavior in our code by introducing exception handling for a `ValueError` that may occur.\n",
    "\n",
    "Another place where our program may hit a snag is if the user inputs the number 0. Dividing by 0 will cause a `ZeroDivisionError`. To avoid this, we can introduce another backup plan into our code. "
   ]
  },
  {
   "cell_type": "code",
   "execution_count": null,
   "metadata": {},
   "outputs": [],
   "source": [
    "try:\n",
    "    x = int(input(\"Enter a number: \"))\n",
    "    y = 10 / x\n",
    "    print(\"The result is:\", y)\n",
    "except ValueError:\n",
    "    print(\"You must enter a valid integer.\")\n",
    "except ZeroDivisionError:\n",
    "    print(\"You cannot divide by zero.\")"
   ]
  },
  {
   "cell_type": "markdown",
   "metadata": {},
   "source": [
    "Having multiple exceptions like this is fairly common. Always be careful when writing exceptions to avoid unplanned errors."
   ]
  },
  {
   "cell_type": "markdown",
   "metadata": {},
   "source": [
    "Exceptions are a handy tool for when there are components of code that cannot be completely predetermined (like user inputs to the program). Try to avoid adding too many exceptions, though, because the overall goal is to keep your program running smoothly."
   ]
  },
  {
   "cell_type": "markdown",
   "metadata": {},
   "source": [
    "### Broader Implications"
   ]
  },
  {
   "cell_type": "markdown",
   "metadata": {},
   "source": [
    "An exception handling failure in the inertial handling system for Ariane Flight V88 led to the rocket erroronously halting 37 seconds after launch. The failure has become known as one of the most infamous and expensive software bugs in history. It resulted in loss of more than $370 million USD. "
   ]
  },
  {
   "cell_type": "markdown",
   "metadata": {},
   "source": [
    "An additional reference about errors and exceptions can be accessed [here](https://www.geeksforgeeks.org/errors-and-exceptions-in-python/)"
   ]
  }
 ],
 "metadata": {
  "kernelspec": {
   "display_name": "base",
   "language": "python",
   "name": "python3"
  },
  "language_info": {
   "codemirror_mode": {
    "name": "ipython",
    "version": 3
   },
   "file_extension": ".py",
   "mimetype": "text/x-python",
   "name": "python",
   "nbconvert_exporter": "python",
   "pygments_lexer": "ipython3",
   "version": "3.12.0"
  }
 },
 "nbformat": 4,
 "nbformat_minor": 2
}
