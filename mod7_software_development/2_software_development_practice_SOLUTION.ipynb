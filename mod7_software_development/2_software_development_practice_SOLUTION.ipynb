{
 "cells": [
  {
   "cell_type": "markdown",
   "metadata": {},
   "source": [
    "# Software Development: Errors, Exceptions, and Testing"
   ]
  },
  {
   "cell_type": "markdown",
   "metadata": {},
   "source": [
    "Please complete this assignment with your small group. Discussion is encouraged and a completed version is due before next class."
   ]
  },
  {
   "cell_type": "markdown",
   "metadata": {},
   "source": [
    "## Type Hinting\n",
    "\n",
    "In this week's lecture, we talked about **type hinting**, which is a type of documentation we can add to explain data types in our code. \n",
    "\n",
    "In type hinting syntax, we can include an \"or\" operator. This tells us that a function will return one type **or** another type. \n",
    "\n",
    "Below is an example of a function, `plant_growth_checker`, which checks if a plant is dead or alive, and then returns the height of a live plant, or returns a message that the plant has died. Notice the type hinting in the function defintion: we will either get a `float` or a `str` from this function."
   ]
  },
  {
   "cell_type": "code",
   "execution_count": 11,
   "metadata": {},
   "outputs": [
    {
     "name": "stdout",
     "output_type": "stream",
     "text": [
      "<class 'float'>\n",
      "<class 'str'>\n"
     ]
    }
   ],
   "source": [
    "def plant_growth_checker(plant_height: float, plant_alive: bool) -> float | str:\n",
    "    if plant_alive:\n",
    "        return plant_height\n",
    "    else:\n",
    "        return \"This plant has died :(\"\n",
    "    \n",
    "print(type(plant_growth_checker(2.5, True)))\n",
    "print(type(plant_growth_checker(3.1, False)))\n"
   ]
  },
  {
   "cell_type": "markdown",
   "metadata": {},
   "source": [
    "Now let's try implementing type hinting into a prewritten class. The following class represents a car for sale. `CarSale` has attributes to represent the year, make and model of the car, the name of the person who sold the car, the price that the car is for sale/sold for, and whether or not the car has been sold. "
   ]
  },
  {
   "cell_type": "markdown",
   "metadata": {},
   "source": [
    "# Q.1: Add type hinting to the following `CarRecord` class. "
   ]
  },
  {
   "cell_type": "code",
   "execution_count": null,
   "metadata": {},
   "outputs": [],
   "source": [
    "class CarRecord:\n",
    "    \"\"\"Class to record a car for sale.\"\"\"\n",
    "\n",
    "    def __init__(self, make: str, model: str, year: int, salesperson: str, price: float, is_sold: bool) -> None:\n",
    "        \"\"\"Init instance attributes\"\"\"\n",
    "        self.make = make\n",
    "        self.model = model\n",
    "        self.year = year\n",
    "        self.salesperson = salesperson\n",
    "        self.price = price\n",
    "        self.is_sold = is_sold\n",
    "\n",
    "    def get_car_info(self) -> str:\n",
    "        \"\"\"Return a descritiption of the car sold.\"\"\"\n",
    "        return f\"{self.year} {self.make} {self.model}\"\n",
    "\n",
    "    def get_salesperson(self) -> str | None:\n",
    "        \"\"\"Return the name of the person who sold the car.\n",
    "           If the car is not yet sold, None will be returned.\"\"\"\n",
    "        if self.is_sold:\n",
    "            return self.salesperson\n",
    "        return None\n",
    "    \n",
    "    def get_inflated_price(self, inflation_rate: float) -> float:\n",
    "        \"\"\"Return the price, adjusted for inflation.\"\"\"\n",
    "        inflated_price = self.price * inflation_rate\n",
    "        return inflated_price\n"
   ]
  },
  {
   "cell_type": "markdown",
   "metadata": {},
   "source": [
    "## Testing\n",
    "\n",
    "As we heard in lecture, testing is an incredibly important part of coding and software development. It is necessary to avoid bugs in our code because bugs can cause all sorts of unpredictable problems. "
   ]
  },
  {
   "cell_type": "markdown",
   "metadata": {},
   "source": [
    "# Q.2: Describe a situation where inadequate testing could cause issues.  "
   ]
  },
  {
   "cell_type": "markdown",
   "metadata": {},
   "source": [
    "### A.2: YOUR ANSWER HERE: Answers could include any sort of real-world example, an experience from this course, or something along the lines of \"there could be unexpected behavior from the program\"."
   ]
  },
  {
   "cell_type": "markdown",
   "metadata": {},
   "source": [
    "In Python, there is a class of methods to aid in testing: the `unittest` module is a built-in tool that helps you check if your code is working correctly by letting you write and run tests. Think of it like creating a checklist for your functions—each test makes sure a part of your program gives the right answer. If something goes wrong (like a function returns the wrong result), `unittest` will show you which test failed so you can fix it. It helps catch bugs early and makes it easier to keep your code working as you make changes.\n",
    "\n",
    "However, we can achieve the same goal using print statements to verify that our functions and methods return the expected values. Let's try writing some tests for the following class, `Rectangle`:"
   ]
  },
  {
   "cell_type": "code",
   "execution_count": 2,
   "metadata": {},
   "outputs": [],
   "source": [
    "class Rectangle:\n",
    "    \"\"\"Class representing a rectangle.\"\"\"\n",
    "\n",
    "    def __init__(self, width : int, height : int):\n",
    "        \"\"\"Init instance attributes.\"\"\"\n",
    "        self.width = width\n",
    "        self.height = height\n",
    "\n",
    "    def get_area(self) -> int:\n",
    "        \"\"\"Calculate the area.\"\"\"\n",
    "        return self.width * self.height\n",
    "\n",
    "    def set_width(self, new_width : int) -> None:\n",
    "        \"\"\"Set the width attribute.\"\"\"\n",
    "        self.width = new_width\n",
    "\n",
    "    def set_height(self, new_height : int) -> None:\n",
    "        \"\"\"Set the height attribute.\"\"\"\n",
    "        self.height = new_height"
   ]
  },
  {
   "cell_type": "markdown",
   "metadata": {},
   "source": [
    "# Q.3: Please write a set of tests for each of the defined methods in `Rectangle`.\n",
    "\n",
    "Write at least one test for each of the methods from the `Rectangle` class. "
   ]
  },
  {
   "cell_type": "code",
   "execution_count": 12,
   "metadata": {},
   "outputs": [
    {
     "name": "stdout",
     "output_type": "stream",
     "text": [
      "Expected: 6  Actual: 6\n",
      "Expected: 3  Actual: 3\n",
      "Expected: 4  Actual: 4\n",
      "Expected: 2  Actual: 2\n",
      "Expected: 12  Actual: 12\n",
      "Expected: 6  Actual: 6\n"
     ]
    }
   ],
   "source": [
    "# YOUR ANSWER HERE\n",
    "\n",
    "# Declare some Rectangles for testing.\n",
    "r1 = Rectangle(2,3)\n",
    "r2 = Rectangle(3,1)\n",
    "\n",
    "# Test the get_area() method\n",
    "print(f\"Expected: 6  Actual: {r1.get_area()}\")\n",
    "print(f\"Expected: 3  Actual: {r2.get_area()}\")\n",
    "\n",
    "# Test the set_width() method\n",
    "r1.set_width(4)\n",
    "print(f\"Expected: 4  Actual: {r1.width}\")\n",
    "\n",
    "# Test the set_height() method\n",
    "r2.set_height(2)\n",
    "print(f\"Expected: 2  Actual: {r2.height}\")\n",
    "\n",
    "# Test the get_area() method now that we've made changes\n",
    "print(f\"Expected: 12  Actual: {r1.get_area()}\")\n",
    "print(f\"Expected: 6  Actual: {r2.get_area()}\")"
   ]
  },
  {
   "cell_type": "markdown",
   "metadata": {},
   "source": [
    "## Putting it all together\n",
    "\n",
    "Now that we've seen how we can use type hinting and testing to help us code, let's try making our own small class with these tools.\n",
    "\n",
    "Here is the description of our class, **Flower**:\n",
    "\n",
    "- Attributes:\n",
    "\n",
    "    - `type` (e.g., \"Rose\", \"Tulip\")\n",
    "\n",
    "    - `age` (in days, as an integer)\n",
    "\n",
    "- Methods:\n",
    "\n",
    "    - `water()` – prints a message like \"Watered the flower.\"\n",
    "\n",
    "    - `is_fresh()` – returns True if age < 7\n",
    "\n",
    "    - `describe()` – returns a string describing the flower, e.g., \"This is a 3-day-old Rose.\"\n",
    "    \n",
    "\n",
    "Once you have your first draft of your class, write at least one test for each method and ensure that your class is working as you intended."
   ]
  },
  {
   "cell_type": "markdown",
   "metadata": {},
   "source": [
    "# Q.4: Write the `Flower` class with testing"
   ]
  },
  {
   "cell_type": "code",
   "execution_count": 18,
   "metadata": {},
   "outputs": [],
   "source": [
    "# Flower class:\n",
    "class Flower:\n",
    "\n",
    "    def __init__(self, type: str, age: int):\n",
    "        \"\"\"Initialize a flower with a type and age in days\"\"\"\n",
    "        self = self\n",
    "        self.type = type\n",
    "        self.age = age\n",
    "\n",
    "    def water(self) -> str:\n",
    "        \"\"\"Water the flower\"\"\"\n",
    "        return f\"This {self.type} has been watered.\"\n",
    "    \n",
    "    def is_fresh(self) -> bool:\n",
    "        \"\"\"Check if the flower is under one week old.\"\"\"\n",
    "        if self.age < 7:\n",
    "            return True\n",
    "        return False\n",
    "    \n",
    "    def describe(self) -> str:\n",
    "        \"\"\"Return a string describing this flower.\"\"\"\n",
    "        if self.age == 1:\n",
    "            return f\"This {self.type} is {self.age} day old.\"\n",
    "        return f\"This {self.type} is {self.age} days old.\"\n",
    "    "
   ]
  },
  {
   "cell_type": "code",
   "execution_count": 19,
   "metadata": {},
   "outputs": [
    {
     "name": "stdout",
     "output_type": "stream",
     "text": [
      "This rose has been watered.\n",
      "This tulip has been watered.\n",
      "True\n",
      "False\n",
      "This rose is 2 days old.\n",
      "This tulip is 8 days old.\n"
     ]
    }
   ],
   "source": [
    "# Flower class testing:\n",
    "flower1 = Flower(\"rose\", 2)\n",
    "flower2 = Flower(\"tulip\", 8)\n",
    "\n",
    "# Testing water()\n",
    "print(flower1.water())\n",
    "print(flower2.water())\n",
    "\n",
    "# Testing is_fresh()\n",
    "print(flower1.is_fresh())\n",
    "print(flower2.is_fresh())\n",
    "\n",
    "# Testing describe()\n",
    "print(flower1.describe())\n",
    "print(flower2.describe())"
   ]
  }
 ],
 "metadata": {
  "kernelspec": {
   "display_name": "base",
   "language": "python",
   "name": "python3"
  },
  "language_info": {
   "codemirror_mode": {
    "name": "ipython",
    "version": 3
   },
   "file_extension": ".py",
   "mimetype": "text/x-python",
   "name": "python",
   "nbconvert_exporter": "python",
   "pygments_lexer": "ipython3",
   "version": "3.12.0"
  }
 },
 "nbformat": 4,
 "nbformat_minor": 2
}
